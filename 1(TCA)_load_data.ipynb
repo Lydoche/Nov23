{
 "cells": [
  {
   "cell_type": "code",
   "execution_count": 1544,
   "id": "9fefbb72",
   "metadata": {
    "scrolled": false
   },
   "outputs": [
    {
     "name": "stdout",
     "output_type": "stream",
     "text": [
      "Once deleted, variables cannot be recovered. Proceed (y/[n])? y\n"
     ]
    }
   ],
   "source": [
    "%reset"
   ]
  },
  {
   "cell_type": "code",
   "execution_count": 1,
   "id": "1a63a3ab",
   "metadata": {},
   "outputs": [],
   "source": [
    "import os\n",
    "os.chdir('/Users/ltran/Documents/TrueData29/CPC_ML_tutorial/')\n",
    "\n",
    "import numpy as np\n",
    "import pandas as pd\n",
    "import pickle\n",
    "from matplotlib import pyplot as plt\n",
    "import seaborn as sns\n",
    "import random\n",
    "import joypy\n",
    "from matplotlib import cm\n",
    "from datetime import datetime\n",
    "from scipy import stats\n",
    "\n",
    "from scipy.stats import fisher_exact\n",
    "from pcntoolkit.normative import estimate, predict, evaluate\n",
    "from pcntoolkit.util.utils import compute_MSLL, create_design_matrix\n",
    "from nm_utils import calibration_descriptives, remove_bad_subjects, load_2d\n",
    "from sklearn.model_selection import train_test_split\n",
    "\n",
    "# Set working directory\n",
    "root_dir = '/Users/ltran/Documents/TrueData0104/CPC_ML_tutorial/'\n",
    "out_dir = os.path.join(root_dir,'models','test')\n",
    "\n",
    "# create the output directory if it does not already exist\n",
    "os.makedirs(out_dir, exist_ok=True)"
   ]
  },
  {
   "cell_type": "markdown",
   "id": "23d89159",
   "metadata": {},
   "source": [
    "# Load TCA"
   ]
  },
  {
   "cell_type": "code",
   "execution_count": 353,
   "id": "92a96e96",
   "metadata": {},
   "outputs": [],
   "source": [
    "data_dir = '/Users/ltran/Documents/Data/'\n"
   ]
  },
  {
   "cell_type": "markdown",
   "id": "1cc50e36",
   "metadata": {},
   "source": [
    "## Compute BMI"
   ]
  },
  {
   "cell_type": "code",
   "execution_count": 505,
   "id": "fb28ee84",
   "metadata": {
    "scrolled": true
   },
   "outputs": [],
   "source": [
    "pheno = pd.read_csv(os.path.join(data_dir, 'TCA_vol/MRI_RDB_TCA_20221109_anonym.tsv'), sep = '\\t')"
   ]
  },
  {
   "cell_type": "code",
   "execution_count": 506,
   "id": "e400d934",
   "metadata": {
    "scrolled": true
   },
   "outputs": [],
   "source": [
    "date_MRI = []\n",
    "for i in pheno['MRIDateOfMRI']:\n",
    "    if (type(i) == float):\n",
    "        date_MRI.append(i)\n",
    "    elif (type(i) == str):\n",
    "        date_MRI.append(datetime.strptime(i, '%d/%m/%Y'))\n",
    "        \n",
    "pheno['date_MRI'] = date_MRI\n",
    "\n",
    "\n",
    "pheno.loc[pheno.date_first_hospi == '02/22/2021', 'date_first_hospi'] = '22/02/2021'\n",
    "date_hospi = []\n",
    "for i in pheno['date_first_hospi']:\n",
    "    if (type(i) == float):\n",
    "        date_hospi.append(i)\n",
    "    elif (type(i) == str):\n",
    "        date_hospi.append(datetime.strptime(i, '%d/%m/%Y'))\n",
    "\n",
    "pheno['date_hospi'] = date_hospi\n",
    "\n"
   ]
  },
  {
   "cell_type": "code",
   "execution_count": 507,
   "id": "2cc2ce2f",
   "metadata": {},
   "outputs": [],
   "source": [
    "time_delta = (pheno['date_MRI'] - pheno['date_hospi'])"
   ]
  },
  {
   "cell_type": "code",
   "execution_count": 508,
   "id": "c4e1eba8",
   "metadata": {},
   "outputs": [],
   "source": [
    "tdl = []\n",
    "\n",
    "for i in time_delta:\n",
    "    tdl.append(float(i.days))\n",
    "    \n",
    "pheno['delta'] = tdl\n",
    "\n",
    "pheno.loc[(pheno['date_MRI'] < pheno['date_hospi']), 'delta'] = np.nan"
   ]
  },
  {
   "cell_type": "code",
   "execution_count": 509,
   "id": "fffb2c1b",
   "metadata": {},
   "outputs": [],
   "source": [
    "pheno['ASD'] = 'TCA'\n",
    "pheno.loc[pheno.delta < 14, 'ASD'] = 'TCA_ac'\n",
    "pheno.loc[pheno.delta >= 14, 'ASD'] = 'TCA_pr'\n",
    "pheno.loc[pheno[pheno.TSA == 1].index, 'ASD'] = 'TCA_Autism'"
   ]
  },
  {
   "cell_type": "code",
   "execution_count": 510,
   "id": "558b4cf7",
   "metadata": {},
   "outputs": [],
   "source": [
    "pheno = pheno.dropna(subset = ['age_at_scan', 'Sex', 'machine'])"
   ]
  },
  {
   "cell_type": "code",
   "execution_count": 511,
   "id": "8127eedd",
   "metadata": {},
   "outputs": [],
   "source": [
    "pheno = pheno.drop_duplicates(subset = ['subject_id'])"
   ]
  },
  {
   "cell_type": "code",
   "execution_count": 512,
   "id": "e192dd64",
   "metadata": {},
   "outputs": [],
   "source": [
    "# Problème pour la taille (m -> cm)\n",
    "pheno['size_at_scan'] = pheno['size_at_scan'].replace(0.92, 92)"
   ]
  },
  {
   "cell_type": "code",
   "execution_count": 513,
   "id": "f447fdc4",
   "metadata": {},
   "outputs": [],
   "source": [
    "# Rajouter suffixe à participant_id\n",
    "pheno['participant_id'] = pheno['subject_id'].astype(str)+'_tca'"
   ]
  },
  {
   "cell_type": "code",
   "execution_count": 514,
   "id": "e7311d52",
   "metadata": {},
   "outputs": [],
   "source": [
    "S = []\n",
    "for i in pheno.subject_id:\n",
    "    S.append('sub-'+str(i).zfill(4))\n",
    "    \n",
    "pheno['Subject'] = S"
   ]
  },
  {
   "cell_type": "code",
   "execution_count": 515,
   "id": "f91d3f4c",
   "metadata": {},
   "outputs": [],
   "source": [
    "pheno.Subject = pheno.Subject+('_ses-0')+pheno.session_id.astype(str)"
   ]
  },
  {
   "cell_type": "code",
   "execution_count": 516,
   "id": "9528dba4",
   "metadata": {},
   "outputs": [],
   "source": [
    "pheno['Protocole'] = pheno['sequence_3DT1'].str.upper()"
   ]
  },
  {
   "cell_type": "code",
   "execution_count": 525,
   "id": "42b4976e",
   "metadata": {},
   "outputs": [
    {
     "data": {
      "text/plain": [
       "0      20/02/2006\n",
       "1      24/02/2006\n",
       "2      08/03/2006\n",
       "3      12/11/2008\n",
       "4      15/07/2009\n",
       "          ...    \n",
       "125    01/06/2015\n",
       "126    23/02/2016\n",
       "128    09/03/2016\n",
       "129    22/10/2021\n",
       "130    16/05/2022\n",
       "Name: MRIDateOfMRI, Length: 118, dtype: object"
      ]
     },
     "execution_count": 525,
     "metadata": {},
     "output_type": "execute_result"
    }
   ],
   "source": [
    "pheno.date_first_hospi"
   ]
  },
  {
   "cell_type": "code",
   "execution_count": 527,
   "id": "90d12a66",
   "metadata": {},
   "outputs": [
    {
     "data": {
      "text/plain": [
       "99    09/03/2020\n",
       "Name: date_first_hospi, dtype: object"
      ]
     },
     "execution_count": 527,
     "metadata": {},
     "output_type": "execute_result"
    }
   ],
   "source": [
    "pheno[pheno.subject_id == 144]['date_first_hospi']"
   ]
  },
  {
   "cell_type": "code",
   "execution_count": 526,
   "id": "3d5e1f13",
   "metadata": {},
   "outputs": [
    {
     "data": {
      "text/plain": [
       "99    22/01/2020\n",
       "Name: MRIDateOfMRI, dtype: object"
      ]
     },
     "execution_count": 526,
     "metadata": {},
     "output_type": "execute_result"
    }
   ],
   "source": [
    "pheno[pheno.subject_id == 144]['MRIDateOfMRI']"
   ]
  },
  {
   "cell_type": "markdown",
   "id": "4cb9252e",
   "metadata": {},
   "source": [
    "## Remove failed"
   ]
  },
  {
   "cell_type": "code",
   "execution_count": 517,
   "id": "de85211a",
   "metadata": {},
   "outputs": [],
   "source": [
    "list_fail = [8, 12, 23, 18, 152, 26, 88, 73, 112, 194, 136]"
   ]
  },
  {
   "cell_type": "code",
   "execution_count": 518,
   "id": "61682386",
   "metadata": {},
   "outputs": [],
   "source": [
    "pheno = pheno[~(pheno.subject_id.isin(list_fail))]"
   ]
  },
  {
   "cell_type": "markdown",
   "id": "c1311fd1",
   "metadata": {},
   "source": [
    "# Volume cortex"
   ]
  },
  {
   "cell_type": "code",
   "execution_count": 519,
   "id": "63eeef89",
   "metadata": {},
   "outputs": [],
   "source": [
    "cv_iso = pd.read_csv(os.path.join(data_dir, 'TCA_vol/volumes-vlob-iso.txt'), sep = '\\t')"
   ]
  },
  {
   "cell_type": "code",
   "execution_count": 520,
   "id": "c1d2c8d7",
   "metadata": {},
   "outputs": [],
   "source": [
    "cv_tfe = pd.read_csv(os.path.join(data_dir, 'TCA_vol/volumes-vlob-tfe.txt'), sep = '\\t')"
   ]
  },
  {
   "cell_type": "code",
   "execution_count": 521,
   "id": "7c946e50",
   "metadata": {},
   "outputs": [],
   "source": [
    "cv_iso.Subject = cv_iso.Subject.str.split('.', expand = True)[0]\n",
    "cv_tfe.Subject = cv_tfe.Subject.str.split('.', expand = True)[0]"
   ]
  },
  {
   "cell_type": "code",
   "execution_count": 453,
   "id": "eaf03297",
   "metadata": {},
   "outputs": [],
   "source": [
    "cv_iso['Protocole'] = 'ISO'\n",
    "cv_tfe['Protocole'] = 'TFE'"
   ]
  },
  {
   "cell_type": "code",
   "execution_count": 454,
   "id": "6412034c",
   "metadata": {},
   "outputs": [],
   "source": [
    "cv = pd.concat([cv_iso, cv_tfe])"
   ]
  },
  {
   "cell_type": "code",
   "execution_count": 455,
   "id": "075c2103",
   "metadata": {},
   "outputs": [],
   "source": [
    "cv['participant_id'] = cv.Subject.str.split('_', expand = True)[0].str.split('-', expand = True)[1].str.lstrip('0')\n",
    "cv['participant_id'] = cv['participant_id'].astype(str)+'_tca'"
   ]
  },
  {
   "cell_type": "markdown",
   "id": "aa18c0e3",
   "metadata": {},
   "source": [
    "# Merge Volume, Area, CT"
   ]
  },
  {
   "cell_type": "code",
   "execution_count": 456,
   "id": "ca0c5866",
   "metadata": {},
   "outputs": [],
   "source": [
    "# Load ISO volume\n",
    "vol_iso = pd.read_csv(os.path.join(data_dir, 'TCA_vol/volumes-fs-iso.txt'), sep = '\\t')\n",
    "\n",
    "# Load TFE volume\n",
    "vol_tfe = pd.read_csv(os.path.join(data_dir, 'TCA_vol/volumes-fs-tfe.txt'), sep = '\\t')"
   ]
  },
  {
   "cell_type": "code",
   "execution_count": 457,
   "id": "4cbfad1d",
   "metadata": {},
   "outputs": [],
   "source": [
    "vol_iso['Protocole'] = 'ISO'\n",
    "vol_tfe['Protocole'] = 'TFE'"
   ]
  },
  {
   "cell_type": "code",
   "execution_count": 458,
   "id": "26c507c8",
   "metadata": {},
   "outputs": [],
   "source": [
    "# Merge volume ISO + TFE \n",
    "\n",
    "vol_tca = pd.concat([vol_tfe, vol_iso])"
   ]
  },
  {
   "cell_type": "code",
   "execution_count": 459,
   "id": "4eac9300",
   "metadata": {},
   "outputs": [],
   "source": [
    "lh_area_iso = pd.read_csv(os.path.join(data_dir, 'TCA_vol/fs-7.2.0-iso.lh.area.csv'), sep = '\\t') \n",
    "rh_area_iso = pd.read_csv(os.path.join(data_dir, 'TCA_vol/fs-7.2.0-iso.rh.area.csv'), sep = '\\t') \n",
    "\n",
    "\n",
    "lh_area_tfe = pd.read_csv(os.path.join(data_dir, 'TCA_vol/fs-7.2.0-tfe.lh.area.csv'), sep = '\\t') \n",
    "rh_area_tfe = pd.read_csv(os.path.join(data_dir, 'TCA_vol/fs-7.2.0-tfe.rh.area.csv'), sep = '\\t') \n",
    "\n",
    "area_iso = lh_area_iso.merge(rh_area_iso.rename(columns={'rh.aparc.area': 'lh.aparc.area'}), on ='lh.aparc.area')\n",
    "\n",
    "area_tfe = lh_area_tfe.merge(rh_area_tfe.rename(columns={'rh.aparc.area': 'lh.aparc.area'}), on ='lh.aparc.area')"
   ]
  },
  {
   "cell_type": "code",
   "execution_count": 460,
   "id": "b6f3f1b7",
   "metadata": {},
   "outputs": [],
   "source": [
    "area_iso['Protocole'] = 'ISO'\n",
    "area_tfe['Protocole'] = 'TFE'"
   ]
  },
  {
   "cell_type": "code",
   "execution_count": 461,
   "id": "45499174",
   "metadata": {},
   "outputs": [],
   "source": [
    "area = pd.concat([area_iso, area_tfe])\n",
    "area = area.rename(columns= {'lh.aparc.area' : 'Subject'})"
   ]
  },
  {
   "cell_type": "code",
   "execution_count": 462,
   "id": "a13c2302",
   "metadata": {},
   "outputs": [],
   "source": [
    "lh_ct_iso = pd.read_csv(os.path.join(data_dir, 'TCA_vol/fs-7.2.0-iso.lh.thickness.csv'), sep = '\\t') \n",
    "rh_ct_iso = pd.read_csv(os.path.join(data_dir, 'TCA_vol/fs-7.2.0-iso.rh.thickness.csv'), sep = '\\t') \n",
    "\n",
    "ct_iso = lh_ct_iso.merge(rh_ct_iso.rename(columns={'rh.aparc.thickness': 'lh.aparc.thickness'}), \n",
    "               on = 'lh.aparc.thickness')\n",
    "\n",
    "\n",
    "lh_ct_tfe = pd.read_csv(os.path.join(data_dir, 'TCA_vol/fs-7.2.0-tfe.lh.thickness.csv'), sep = '\\t') \n",
    "rh_ct_tfe = pd.read_csv(os.path.join(data_dir, 'TCA_vol/fs-7.2.0-tfe.rh.thickness.csv'), sep = '\\t') \n",
    "\n",
    "ct_tfe = lh_ct_tfe.merge(rh_ct_tfe.rename(columns={'rh.aparc.thickness': 'lh.aparc.thickness'}), \n",
    "               on = 'lh.aparc.thickness')\n",
    "\n",
    "ct_iso['Protocole'] = 'ISO'\n",
    "ct_tfe['Protocole'] = 'TFE'\n",
    "ct = pd.concat([ct_iso, ct_tfe])\n",
    "ct = ct.rename(columns= {'lh.aparc.thickness' : 'Subject'})"
   ]
  },
  {
   "cell_type": "code",
   "execution_count": 463,
   "id": "1a2b6a8b",
   "metadata": {},
   "outputs": [],
   "source": [
    "df_TCA = area.merge(vol_tca, on = ['Subject', 'Protocole']).merge(ct, on=['Subject','Protocole'])"
   ]
  },
  {
   "cell_type": "code",
   "execution_count": 464,
   "id": "16e9dc33",
   "metadata": {},
   "outputs": [],
   "source": [
    "l_pi = []\n",
    "for i in df_TCA['Subject']:\n",
    "    l_pi.append(int(i.split('-')[1].split('_')[0]))\n",
    "\n",
    "df_TCA['participant_id'] = l_pi"
   ]
  },
  {
   "cell_type": "code",
   "execution_count": 465,
   "id": "fb72da31",
   "metadata": {},
   "outputs": [],
   "source": [
    "df_TCA['participant_id'] = df_TCA['participant_id'].astype(str)+'_tca'"
   ]
  },
  {
   "cell_type": "code",
   "execution_count": 466,
   "id": "277ef32a",
   "metadata": {},
   "outputs": [],
   "source": [
    "df_TCA = df_TCA.merge(cv, on = ['participant_id', 'Protocole'])"
   ]
  },
  {
   "cell_type": "code",
   "execution_count": 467,
   "id": "33e70bdc",
   "metadata": {},
   "outputs": [],
   "source": [
    "df_TCA = df_TCA.merge(pheno, on = ['participant_id', 'Protocole'])"
   ]
  },
  {
   "cell_type": "code",
   "execution_count": 468,
   "id": "296fe7cd",
   "metadata": {},
   "outputs": [],
   "source": [
    "df_TCA['sex'] = df_TCA['Sex'].replace({'Female' : 2, 'Male' : 1})"
   ]
  },
  {
   "cell_type": "code",
   "execution_count": 469,
   "id": "2ffb7b1b",
   "metadata": {
    "scrolled": true
   },
   "outputs": [],
   "source": [
    "# df_TCA = df_TCA.drop_duplicates(subset='participant_id')\n",
    "df_TCA = df_TCA.dropna(subset='Sex')"
   ]
  },
  {
   "cell_type": "code",
   "execution_count": 470,
   "id": "b85a72c9",
   "metadata": {},
   "outputs": [],
   "source": [
    "df_TCA.columns = df_TCA.columns.str.replace('-', '_')"
   ]
  },
  {
   "cell_type": "code",
   "execution_count": 471,
   "id": "dc2fcbe6",
   "metadata": {},
   "outputs": [],
   "source": [
    "# df_TCA = df_TCA[~(df_TCA['magnetic_field_strength'] == '3')]"
   ]
  },
  {
   "cell_type": "code",
   "execution_count": 472,
   "id": "c9af9f07",
   "metadata": {},
   "outputs": [],
   "source": [
    "df_TCA = df_TCA.drop_duplicates(subset='participant_id', keep = 'first')"
   ]
  },
  {
   "cell_type": "code",
   "execution_count": 473,
   "id": "05e647d4",
   "metadata": {},
   "outputs": [],
   "source": [
    "df_TCA['size_at_scan'] = df_TCA['size_at_scan'].replace(0.92, 92)"
   ]
  },
  {
   "cell_type": "code",
   "execution_count": 474,
   "id": "11b226ef",
   "metadata": {},
   "outputs": [],
   "source": [
    "df_TCA['Month'] = df_TCA['age_at_scan']*12"
   ]
  },
  {
   "cell_type": "code",
   "execution_count": 475,
   "id": "d71d9964",
   "metadata": {},
   "outputs": [],
   "source": [
    "df_TCA['scanner'] = df_TCA['manufacturer_model_name']"
   ]
  },
  {
   "cell_type": "code",
   "execution_count": 476,
   "id": "381fe99d",
   "metadata": {},
   "outputs": [],
   "source": [
    "df_TCA = df_TCA.rename(columns= {'3rd_Ventricle' : 'third_Ventricle',\n",
    "                       '4th_Ventricle' : 'fourth_Ventricle',\n",
    "                        '5th_Ventricle' : 'fifth_Ventricle'})"
   ]
  },
  {
   "cell_type": "markdown",
   "id": "bfec4648",
   "metadata": {},
   "source": [
    "### Export dataframe"
   ]
  },
  {
   "cell_type": "code",
   "execution_count": 486,
   "id": "bdec05ba",
   "metadata": {},
   "outputs": [],
   "source": [
    "df_TCA.to_csv(os.path.join(data_dir, 'Outputs/df_TCA.csv'), index = False)"
   ]
  },
  {
   "cell_type": "code",
   "execution_count": 478,
   "id": "218c9412",
   "metadata": {},
   "outputs": [],
   "source": [
    "df_TCA = df_TCA[~df_TCA.Subject_x.str.contains('069')]"
   ]
  },
  {
   "cell_type": "code",
   "execution_count": 479,
   "id": "5ff733b7",
   "metadata": {},
   "outputs": [],
   "source": [
    "df_TCA = df_TCA.rename(columns= {'weight_at_scan': 'patient_weight'})"
   ]
  },
  {
   "cell_type": "code",
   "execution_count": 480,
   "id": "500fd5ab",
   "metadata": {},
   "outputs": [],
   "source": [
    "df_TCA = df_TCA[(df_TCA.age_at_scan < 16) & (df_TCA.age_at_scan > 6)]"
   ]
  },
  {
   "cell_type": "code",
   "execution_count": 481,
   "id": "101fe7df",
   "metadata": {},
   "outputs": [],
   "source": [
    "df_TCA = df_TCA[df_TCA.machine != 'Ingenia_3T']"
   ]
  },
  {
   "cell_type": "code",
   "execution_count": 482,
   "id": "d59a6b95",
   "metadata": {},
   "outputs": [],
   "source": [
    "df_TCA.to_csv(os.path.join(data_dir, 'Outputs/df_TCA.csv'))"
   ]
  },
  {
   "cell_type": "code",
   "execution_count": 483,
   "id": "f631469c",
   "metadata": {
    "scrolled": true
   },
   "outputs": [
    {
     "data": {
      "text/plain": [
       "ASD\n",
       "TCA            5\n",
       "TCA_Autism     2\n",
       "TCA_ac        37\n",
       "TCA_pr        47\n",
       "dtype: int64"
      ]
     },
     "execution_count": 483,
     "metadata": {},
     "output_type": "execute_result"
    }
   ],
   "source": [
    "df_TCA.groupby('ASD').size()"
   ]
  },
  {
   "cell_type": "code",
   "execution_count": 484,
   "id": "eb108fca",
   "metadata": {},
   "outputs": [],
   "source": [
    "df_TCA['ID'] = df_TCA.participant_id.str.split('_', expand = True)[0]"
   ]
  },
  {
   "cell_type": "markdown",
   "id": "94f335d0",
   "metadata": {},
   "source": [
    "________________"
   ]
  },
  {
   "cell_type": "markdown",
   "id": "1b7e9e28",
   "metadata": {},
   "source": [
    "# Load TSA"
   ]
  },
  {
   "cell_type": "markdown",
   "id": "36a57755",
   "metadata": {},
   "source": [
    "Load infos "
   ]
  },
  {
   "cell_type": "code",
   "execution_count": 41,
   "id": "7e874d65",
   "metadata": {},
   "outputs": [],
   "source": [
    "def is_duplicated(df, col):\n",
    "    return df[df.duplicated(subset = col, keep = False)]\n",
    "    "
   ]
  },
  {
   "cell_type": "code",
   "execution_count": 42,
   "id": "62f490d6",
   "metadata": {},
   "outputs": [],
   "source": [
    "infos_TSA = pd.read_csv(os.path.join(data_dir, 'TSA_vol/MRI_RDB_20220928_anonym.tsv'), sep = '\\t')"
   ]
  },
  {
   "cell_type": "code",
   "execution_count": 43,
   "id": "f42b4110",
   "metadata": {},
   "outputs": [],
   "source": [
    "infos_TSA['Subject'] = 'sub-'+infos_TSA['subject_id'].astype(str).str.zfill(4)+'_ses-0'+infos_TSA['session_id'].astype(str\n",
    "                                                                    )"
   ]
  },
  {
   "cell_type": "code",
   "execution_count": 44,
   "id": "06f95c88",
   "metadata": {},
   "outputs": [],
   "source": [
    "# Enleve les NA dans sex, ASD, age\n",
    "infos_TSA = infos_TSA.dropna(subset = ['Sex', 'age_at_scan', 'ASD'])\n",
    "infos_TSA = infos_TSA[~(infos_TSA.ASD == '?')]"
   ]
  },
  {
   "cell_type": "code",
   "execution_count": 45,
   "id": "ae92bf0f",
   "metadata": {},
   "outputs": [],
   "source": [
    "infos_TSA['sex'] = infos_TSA.Sex.replace({'Male' : 1, 'Female' : 2})"
   ]
  },
  {
   "cell_type": "code",
   "execution_count": 46,
   "id": "fedc2fe2",
   "metadata": {},
   "outputs": [],
   "source": [
    "infos_TSA.loc[(infos_TSA.Group == 'Relative') & (infos_TSA.ASD == 'No'), 'ASD'] = 'Relative'"
   ]
  },
  {
   "cell_type": "code",
   "execution_count": 47,
   "id": "fa18cca6",
   "metadata": {},
   "outputs": [],
   "source": [
    "# maj_tsa = pd.read_csv(os.path.join(data_dir, 'TSA_vol/TSA_cohort_dcm_info_20221110_anonymized.csv'), sep = ',')"
   ]
  },
  {
   "cell_type": "code",
   "execution_count": 48,
   "id": "b3609ba3",
   "metadata": {},
   "outputs": [],
   "source": [
    "# maj_tsa = maj_tsa.rename(columns= {'SubCode' : 'subject_id'})"
   ]
  },
  {
   "cell_type": "code",
   "execution_count": 49,
   "id": "3da790e4",
   "metadata": {},
   "outputs": [],
   "source": [
    "# infos_TSA = maj_tsa[['subject_id', 'patient_weight']].merge(infos_TSA,on = 'subject_id', suffixes = ('', '2'))"
   ]
  },
  {
   "cell_type": "code",
   "execution_count": 50,
   "id": "846c75c8",
   "metadata": {},
   "outputs": [],
   "source": [
    "infos_TSA = infos_TSA[(infos_TSA.age_at_scan > 6) & (infos_TSA.age_at_scan < 16)]"
   ]
  },
  {
   "cell_type": "markdown",
   "id": "e0b2a75d",
   "metadata": {},
   "source": [
    "Load QC"
   ]
  },
  {
   "cell_type": "code",
   "execution_count": 51,
   "id": "230c2e04",
   "metadata": {},
   "outputs": [],
   "source": [
    "qc_alex = pd.read_csv(os.path.join(data_dir, 'TSA_vol/Imagerie_QC.csv'), sep = ';')"
   ]
  },
  {
   "cell_type": "code",
   "execution_count": 52,
   "id": "386ea23e",
   "metadata": {},
   "outputs": [],
   "source": [
    "# qc_tfe = pd.read_csv(os.path.join(data_dir, 'TSA_vol/qc-fs-6.0.0-tfe_20171002.txt'), sep = '\\t')\n",
    "# qc_iso = pd.read_csv(os.path.join(data_dir, 'TSA_vol/qc-fs-6.0.0-isotrope_20171009.txt'), sep = '\\t')\n",
    "# iso_fail = qc_iso[qc_iso.QC <= 1][['Subject', 'QC']]\n",
    "# tfe_fail = qc_tfe[qc_tfe.QC <= 1][['Subject', 'QC']]"
   ]
  },
  {
   "cell_type": "code",
   "execution_count": 53,
   "id": "d4769e13",
   "metadata": {},
   "outputs": [],
   "source": [
    "QC = pd.read_csv(os.path.join(data_dir, 'QC_trio.csv'), sep = ';', on_bad_lines= 'skip')"
   ]
  },
  {
   "cell_type": "code",
   "execution_count": 54,
   "id": "0e3acc9e",
   "metadata": {},
   "outputs": [],
   "source": [
    "QC.BIDS = QC.BIDS.str.lower()"
   ]
  },
  {
   "cell_type": "code",
   "execution_count": 55,
   "id": "a7fe0778",
   "metadata": {},
   "outputs": [],
   "source": [
    "QC = QC.dropna(subset = 'QC')\n",
    "qc_alex = qc_alex.dropna(subset = 'QC')"
   ]
  },
  {
   "cell_type": "code",
   "execution_count": 56,
   "id": "07537289",
   "metadata": {},
   "outputs": [],
   "source": [
    "QC = QC[~(QC.BIDS.isin(qc_alex.BIDS))]"
   ]
  },
  {
   "cell_type": "code",
   "execution_count": 57,
   "id": "2bfc4d9b",
   "metadata": {},
   "outputs": [],
   "source": [
    "QC = pd.concat([QC, qc_alex])"
   ]
  },
  {
   "cell_type": "code",
   "execution_count": 58,
   "id": "cc0a72b0",
   "metadata": {},
   "outputs": [],
   "source": [
    "QC.session = QC.session.replace(np.nan, 1)"
   ]
  },
  {
   "cell_type": "code",
   "execution_count": 59,
   "id": "cad8f917",
   "metadata": {},
   "outputs": [],
   "source": [
    "QC.loc[495, 'session'] = 2"
   ]
  },
  {
   "cell_type": "code",
   "execution_count": 60,
   "id": "a1c682c3",
   "metadata": {},
   "outputs": [],
   "source": [
    "# bids_f = QC[(QC.QC == 'F') | (QC.QC == 'g') | (QC.QC == 'M')][['BIDS', 'session', 'Protocole']]"
   ]
  },
  {
   "cell_type": "code",
   "execution_count": 61,
   "id": "8ed4e45a",
   "metadata": {},
   "outputs": [],
   "source": [
    "bids_f = QC[(QC.QC == 'P')| (QC.QC == 'M')][['BIDS', 'session', 'Protocole', 'QC']]"
   ]
  },
  {
   "cell_type": "code",
   "execution_count": 62,
   "id": "669b4001",
   "metadata": {},
   "outputs": [],
   "source": [
    "ses = []\n",
    "for i in bids_f['session']:\n",
    "    if (i is np.nan):\n",
    "        print(i)\n",
    "    else:   \n",
    "        ses.append(str(i).split('.')[0])\n",
    "    \n",
    "bids_f['ses'] = ses\n",
    "bids_f = bids_f.replace({np.nan : '1'})"
   ]
  },
  {
   "cell_type": "code",
   "execution_count": 63,
   "id": "f379e55a",
   "metadata": {},
   "outputs": [],
   "source": [
    "bids_f['Subject'] = bids_f['BIDS'].astype(str)+'_ses-0'+bids_f['ses'].astype(str) "
   ]
  },
  {
   "cell_type": "code",
   "execution_count": 64,
   "id": "383c1fad",
   "metadata": {},
   "outputs": [],
   "source": [
    "bids_f_iso = bids_f[(bids_f.Protocole == 'ISO') | (bids_f.Protocole == 'isotrope')\n",
    "                    | (bids_f.Protocole == 'isot')]"
   ]
  },
  {
   "cell_type": "code",
   "execution_count": 65,
   "id": "17f52718",
   "metadata": {},
   "outputs": [],
   "source": [
    "bids_f_tfe  = bids_f[(bids_f.Protocole == 'TFE') | (bids_f.Protocole == 'tfe')]"
   ]
  },
  {
   "cell_type": "code",
   "execution_count": 66,
   "id": "35aa2d67",
   "metadata": {},
   "outputs": [],
   "source": [
    "bids_f_iso = bids_f_iso[~ (bids_f_iso.BIDS == 'sub-0361')]"
   ]
  },
  {
   "cell_type": "markdown",
   "id": "ceec4556",
   "metadata": {},
   "source": [
    "Volumes Cortex"
   ]
  },
  {
   "cell_type": "code",
   "execution_count": 274,
   "id": "31d7507f",
   "metadata": {},
   "outputs": [],
   "source": [
    "cv_iso = pd.read_csv(os.path.join(data_dir, 'TSA_vol/volumes-vlob-iso.txt'), sep = '\\t')\n",
    "\n",
    "cv_tfe = pd.read_csv(os.path.join(data_dir, 'TSA_vol/volumes-vlob-tfe.txt'), sep = '\\t')\n",
    "\n",
    "cv_iso.Subject = cv_iso.Subject.str.split('.', expand = True)[0]\n",
    "cv_tfe.Subject = cv_tfe.Subject.str.split('.', expand = True)[0]\n",
    "\n",
    "cv_iso['Protocole'] = 'ISO'\n",
    "cv_tfe['Protocole'] = 'TFE'\n",
    "\n",
    "cv_iso = cv_iso[~(cv_iso.Subject.isin(cv_tfe.Subject))]\n",
    "cv_iso = cv_iso[(cv_iso.Subject.isin(bids_f_iso.Subject))]\n",
    "cv_tfe = cv_tfe[(cv_tfe.Subject.isin(bids_f_tfe.Subject))]\n",
    "cv = pd.concat([cv_iso, cv_tfe])"
   ]
  },
  {
   "cell_type": "code",
   "execution_count": 275,
   "id": "c16114d5",
   "metadata": {},
   "outputs": [],
   "source": [
    "cv['participant_id'] = cv.Subject.str.split('_', expand = True)[0].str.split('-', expand = True)[1].str.lstrip('0')\n",
    "cv['participant_id'] = cv['participant_id'].astype(int)"
   ]
  },
  {
   "cell_type": "markdown",
   "id": "5d8ba7bf",
   "metadata": {},
   "source": [
    "Volumes"
   ]
  },
  {
   "cell_type": "code",
   "execution_count": 67,
   "id": "8338c81d",
   "metadata": {},
   "outputs": [],
   "source": [
    "# Load ISO volume\n",
    "vol_tsa_iso = pd.read_csv(os.path.join(data_dir, 'TSA_vol/fs-7.2.0-iso.aseg.csv'), sep = '\\t')\n",
    "\n",
    "# Load TFE volume\n",
    "vol_tsa_tfe = pd.read_csv(os.path.join(data_dir, 'TSA_vol/fs-7.2.0-tfe.aseg.csv'), sep = '\\t')"
   ]
  },
  {
   "cell_type": "code",
   "execution_count": 68,
   "id": "2a033688",
   "metadata": {},
   "outputs": [],
   "source": [
    "vol_tsa_iso = vol_tsa_iso.rename(columns= {'Measure:volume':'Subject'})\n",
    "vol_tsa_tfe = vol_tsa_tfe.rename(columns= {'Measure:volume':'Subject'})"
   ]
  },
  {
   "cell_type": "code",
   "execution_count": 69,
   "id": "c5843ef4",
   "metadata": {
    "scrolled": false
   },
   "outputs": [],
   "source": [
    "vol_tsa_iso = vol_tsa_iso[(vol_tsa_iso.Subject.isin(bids_f_iso.Subject))]"
   ]
  },
  {
   "cell_type": "code",
   "execution_count": 70,
   "id": "f818916d",
   "metadata": {
    "scrolled": true
   },
   "outputs": [],
   "source": [
    "# vol_tsa_iso = vol_tsa_iso.merge(bids_f_iso, on = 'Subject')\n",
    "# vol_tsa_tfe = vol_tsa_tfe.merge(bids_f_tfe, on = 'Subject')"
   ]
  },
  {
   "cell_type": "code",
   "execution_count": 71,
   "id": "310e031e",
   "metadata": {},
   "outputs": [],
   "source": [
    "vol_tsa_tfe = vol_tsa_tfe[(vol_tsa_tfe.Subject.isin(bids_f_tfe.Subject))]"
   ]
  },
  {
   "cell_type": "code",
   "execution_count": 72,
   "id": "e47c0e00",
   "metadata": {},
   "outputs": [],
   "source": [
    "vol_tsa_iso= vol_tsa_iso[~(vol_tsa_iso.Subject.isin(vol_tsa_tfe.Subject))]"
   ]
  },
  {
   "cell_type": "code",
   "execution_count": 73,
   "id": "e64f1c4d",
   "metadata": {},
   "outputs": [],
   "source": [
    "vol_tsa_iso['Protocole'] = 'ISO'\n",
    "vol_tsa_tfe['Protocole'] = 'TFE'"
   ]
  },
  {
   "cell_type": "code",
   "execution_count": 74,
   "id": "88c42292",
   "metadata": {},
   "outputs": [],
   "source": [
    "vol_tsa = pd.concat([vol_tsa_iso, vol_tsa_tfe])"
   ]
  },
  {
   "cell_type": "code",
   "execution_count": 75,
   "id": "0eca4656",
   "metadata": {
    "scrolled": false
   },
   "outputs": [],
   "source": [
    "participants = []\n",
    "for i in vol_tsa['Subject']:\n",
    "    participants.append(int(i.split('-')[1].split('_')[0]))\n",
    "    \n",
    "vol_tsa['participant_id'] = participants"
   ]
  },
  {
   "cell_type": "code",
   "execution_count": 76,
   "id": "a20818c5",
   "metadata": {},
   "outputs": [],
   "source": [
    "vol_tsa = vol_tsa.drop_duplicates(subset= 'Subject', keep = 'first')"
   ]
  },
  {
   "cell_type": "markdown",
   "id": "a7861b39",
   "metadata": {},
   "source": [
    "Surface area"
   ]
  },
  {
   "cell_type": "code",
   "execution_count": 77,
   "id": "611402ad",
   "metadata": {},
   "outputs": [],
   "source": [
    "rh_area_iso = pd.read_csv(os.path.join(data_dir, 'TSA_vol/fs-7.2.0-iso.rh.area.csv'), sep = '\\t')\n",
    "lh_area_iso = pd.read_csv(os.path.join(data_dir, 'TSA_vol/fs-7.2.0-iso.lh.area.csv'), sep = '\\t')\n",
    "rh_area_tfe = pd.read_csv(os.path.join(data_dir, 'TSA_vol/fs-7.2.0-tfe.rh.area.csv'), sep = '\\t')\n",
    "lh_area_tfe = pd.read_csv(os.path.join(data_dir, 'TSA_vol/fs-7.2.0-tfe.lh.area.csv'), sep = '\\t')"
   ]
  },
  {
   "cell_type": "code",
   "execution_count": 78,
   "id": "8dbf0187",
   "metadata": {},
   "outputs": [],
   "source": [
    "area_iso = lh_area_iso.merge(rh_area_iso.rename(columns={'rh.aparc.area': 'lh.aparc.area'}), on ='lh.aparc.area')"
   ]
  },
  {
   "cell_type": "code",
   "execution_count": 79,
   "id": "c9e3cf79",
   "metadata": {},
   "outputs": [],
   "source": [
    "area_tfe = lh_area_tfe.merge(rh_area_tfe.rename(columns={'rh.aparc.area': 'lh.aparc.area'}), on ='lh.aparc.area')"
   ]
  },
  {
   "cell_type": "code",
   "execution_count": 80,
   "id": "856d4a14",
   "metadata": {},
   "outputs": [],
   "source": [
    "area_iso = area_iso.rename(columns= {'lh.aparc.area' : 'Subject'})\n",
    "area_tfe = area_tfe.rename(columns= {'lh.aparc.area' : 'Subject'})"
   ]
  },
  {
   "cell_type": "code",
   "execution_count": 81,
   "id": "944f38f9",
   "metadata": {
    "scrolled": false
   },
   "outputs": [],
   "source": [
    "area_iso = area_iso[(area_iso.Subject.isin(bids_f_iso.Subject))]"
   ]
  },
  {
   "cell_type": "code",
   "execution_count": 82,
   "id": "9902e38d",
   "metadata": {},
   "outputs": [],
   "source": [
    "area_tfe = area_tfe[(area_tfe.Subject.isin(bids_f_tfe.Subject))]"
   ]
  },
  {
   "cell_type": "code",
   "execution_count": 83,
   "id": "7c7aa714",
   "metadata": {},
   "outputs": [],
   "source": [
    "area_iso= area_iso[~(area_iso.Subject.isin(area_tfe.Subject))]"
   ]
  },
  {
   "cell_type": "code",
   "execution_count": 84,
   "id": "13ca1852",
   "metadata": {},
   "outputs": [],
   "source": [
    "area_iso['Protocole'] = 'ISO'\n",
    "area_tfe['Protocole'] = 'TFE'"
   ]
  },
  {
   "cell_type": "code",
   "execution_count": 85,
   "id": "c3bca2fb",
   "metadata": {},
   "outputs": [],
   "source": [
    "area_tsa = pd.concat([area_iso, area_tfe])"
   ]
  },
  {
   "cell_type": "code",
   "execution_count": 86,
   "id": "9a8f08c4",
   "metadata": {
    "scrolled": false
   },
   "outputs": [],
   "source": [
    "participants = []\n",
    "for i in area_tsa['Subject']:\n",
    "    participants.append(int(i.split('-')[1].split('_')[0]))\n",
    "    \n",
    "area_tsa['participant_id'] = participants"
   ]
  },
  {
   "cell_type": "code",
   "execution_count": 87,
   "id": "ff76f857",
   "metadata": {},
   "outputs": [],
   "source": [
    "area_tsa = area_tsa.drop_duplicates(subset= 'Subject', keep = 'first')"
   ]
  },
  {
   "cell_type": "markdown",
   "id": "7b6ca2f1",
   "metadata": {},
   "source": [
    "Cortical thickness"
   ]
  },
  {
   "cell_type": "code",
   "execution_count": 88,
   "id": "62db0f65",
   "metadata": {},
   "outputs": [],
   "source": [
    "rh_ct_iso = pd.read_csv(os.path.join(data_dir, 'TSA_vol/fs-7.2.0-iso.rh.thickness.csv'), sep = '\\t')\n",
    "lh_ct_iso = pd.read_csv(os.path.join(data_dir, 'TSA_vol/fs-7.2.0-iso.lh.thickness.csv'), sep = '\\t')\n",
    "rh_ct_tfe = pd.read_csv(os.path.join(data_dir, 'TSA_vol/fs-7.2.0-tfe.rh.thickness.csv'), sep = '\\t')\n",
    "lh_ct_tfe = pd.read_csv(os.path.join(data_dir, 'TSA_vol/fs-7.2.0-tfe.lh.thickness.csv'), sep = '\\t')"
   ]
  },
  {
   "cell_type": "code",
   "execution_count": 89,
   "id": "20b5c1cc",
   "metadata": {},
   "outputs": [],
   "source": [
    "ct_iso = lh_ct_iso.merge(rh_ct_iso.rename(columns={'rh.aparc.thickness': 'lh.aparc.thickness'}), on ='lh.aparc.thickness')"
   ]
  },
  {
   "cell_type": "code",
   "execution_count": 90,
   "id": "30ffdec3",
   "metadata": {},
   "outputs": [],
   "source": [
    "ct_tfe = lh_ct_tfe.merge(rh_ct_tfe.rename(columns={'rh.aparc.thickness': 'lh.aparc.thickness'}), on ='lh.aparc.thickness')"
   ]
  },
  {
   "cell_type": "code",
   "execution_count": 91,
   "id": "cf2d66bb",
   "metadata": {},
   "outputs": [],
   "source": [
    "ct_iso = ct_iso.rename(columns={'lh.aparc.thickness':'Subject'})\n",
    "ct_tfe = ct_tfe.rename(columns={'lh.aparc.thickness':'Subject'})"
   ]
  },
  {
   "cell_type": "code",
   "execution_count": 92,
   "id": "55628746",
   "metadata": {
    "scrolled": false
   },
   "outputs": [],
   "source": [
    "ct_iso = ct_iso[(ct_iso.Subject.isin(bids_f_iso.Subject))]"
   ]
  },
  {
   "cell_type": "code",
   "execution_count": 93,
   "id": "20eb8cba",
   "metadata": {},
   "outputs": [],
   "source": [
    "ct_tfe = ct_tfe[(ct_tfe.Subject.isin(bids_f_tfe.Subject))]"
   ]
  },
  {
   "cell_type": "code",
   "execution_count": 94,
   "id": "4ca33fd4",
   "metadata": {},
   "outputs": [],
   "source": [
    "ct_iso= ct_iso[~(ct_iso.Subject.isin(ct_tfe.Subject))]"
   ]
  },
  {
   "cell_type": "code",
   "execution_count": 95,
   "id": "5c641481",
   "metadata": {},
   "outputs": [],
   "source": [
    "ct_iso['Protocole'] = 'ISO'\n",
    "ct_tfe['Protocole'] = 'TFE'"
   ]
  },
  {
   "cell_type": "code",
   "execution_count": 96,
   "id": "fa5cfbbc",
   "metadata": {},
   "outputs": [],
   "source": [
    "ct_tsa = pd.concat([ct_iso, ct_tfe])"
   ]
  },
  {
   "cell_type": "code",
   "execution_count": 97,
   "id": "9a55bc25",
   "metadata": {
    "scrolled": false
   },
   "outputs": [],
   "source": [
    "participants = []\n",
    "for i in ct_tsa['Subject']:\n",
    "    participants.append(int(i.split('-')[1].split('_')[0]))\n",
    "    \n",
    "ct_tsa['participant_id'] = participants"
   ]
  },
  {
   "cell_type": "code",
   "execution_count": 98,
   "id": "48462f3f",
   "metadata": {},
   "outputs": [],
   "source": [
    "ct_tsa = ct_tsa.drop_duplicates(subset= 'Subject', keep = 'first')"
   ]
  },
  {
   "cell_type": "markdown",
   "id": "aefe99e4",
   "metadata": {},
   "source": [
    "### Merge volume / area / ct"
   ]
  },
  {
   "cell_type": "code",
   "execution_count": 99,
   "id": "62d1790e",
   "metadata": {},
   "outputs": [],
   "source": [
    "df_tsa = area_tsa.merge(ct_tsa, on = ['Subject', 'Protocole'], suffixes=('', '_y')).merge(vol_tsa, on = ['Subject','Protocole'], suffixes=('', '_z'))"
   ]
  },
  {
   "cell_type": "code",
   "execution_count": 100,
   "id": "c5f4e580",
   "metadata": {},
   "outputs": [],
   "source": [
    "# df_tsa = df_tsa.merge(cv, on = ['Subject', 'Protocole'])"
   ]
  },
  {
   "cell_type": "code",
   "execution_count": 101,
   "id": "521911db",
   "metadata": {},
   "outputs": [],
   "source": [
    "# df_tsa = area_tsa.merge(ct_tsa, on = 'participant_id', suffixes=('', '_y')).merge(vol_tsa, on = 'participant_id', suffixes=('', '_z'))"
   ]
  },
  {
   "cell_type": "markdown",
   "id": "27b9f042",
   "metadata": {},
   "source": [
    "### Merge with infos_TSA"
   ]
  },
  {
   "cell_type": "code",
   "execution_count": 102,
   "id": "b092c8f4",
   "metadata": {},
   "outputs": [],
   "source": [
    "zf = []\n",
    "for i in infos_TSA.subject_id:\n",
    "    zf.append('sub-'+str(i).zfill(4)+'_ses-0')\n",
    "    \n",
    "infos_TSA['Subject'] = zf+infos_TSA.session_id.astype(str)"
   ]
  },
  {
   "cell_type": "code",
   "execution_count": 103,
   "id": "8e0f6492",
   "metadata": {},
   "outputs": [],
   "source": [
    "# df_TSA = infos_TSA.merge(cv, on = 'Subject')"
   ]
  },
  {
   "cell_type": "code",
   "execution_count": 104,
   "id": "dbf4d7ac",
   "metadata": {},
   "outputs": [],
   "source": [
    "df_TSA = infos_TSA.merge(df_tsa,on = 'Subject')"
   ]
  },
  {
   "cell_type": "code",
   "execution_count": 105,
   "id": "2534ce19",
   "metadata": {},
   "outputs": [],
   "source": [
    "df_TSA['participant_id'] = df_TSA.Subject.str.split('-', expand = True)[1].str.split('_', expand = True)[0].str.lstrip('0')"
   ]
  },
  {
   "cell_type": "code",
   "execution_count": 106,
   "id": "dc29856b",
   "metadata": {},
   "outputs": [],
   "source": [
    "df_TSA.columns = df_TSA.columns.str.replace('-', '_')"
   ]
  },
  {
   "cell_type": "code",
   "execution_count": 107,
   "id": "150b86ea",
   "metadata": {},
   "outputs": [],
   "source": [
    "df_TSA['scanner'] = df_TSA['machine'].str.upper()"
   ]
  },
  {
   "cell_type": "code",
   "execution_count": 108,
   "id": "3d613855",
   "metadata": {},
   "outputs": [],
   "source": [
    "df_TSA = df_TSA.rename(columns= {'3rd_Ventricle' : 'third_Ventricle',\n",
    "                       '4th_Ventricle' : 'fourth_Ventricle',\n",
    "                        '5th_Ventricle' : 'fifth_Ventricle'})"
   ]
  },
  {
   "cell_type": "markdown",
   "id": "81304894",
   "metadata": {},
   "source": [
    "## ASD Categories"
   ]
  },
  {
   "cell_type": "code",
   "execution_count": 109,
   "id": "6f5a34e3",
   "metadata": {},
   "outputs": [],
   "source": [
    "df_TSA.loc[(df_TSA.ASD == 'Yes') & (df_TSA.Group !=  'Patient'), 'ASD'] = 'Pas_ASD'"
   ]
  },
  {
   "cell_type": "code",
   "execution_count": 110,
   "id": "1ff66bf0",
   "metadata": {},
   "outputs": [],
   "source": [
    "df_TSA.loc[(df_TSA.ASD == 'No') & (df_TSA.Group ==  'Patient'), 'ASD'] = 'TD_Patient'"
   ]
  },
  {
   "cell_type": "markdown",
   "id": "3b23a115",
   "metadata": {},
   "source": [
    "## Export TSA"
   ]
  },
  {
   "cell_type": "code",
   "execution_count": 111,
   "id": "437a9d6a",
   "metadata": {},
   "outputs": [],
   "source": [
    "df_TSA.to_csv(os.path.join(data_dir, 'Outputs/df_TSA.csv'), index = False)"
   ]
  },
  {
   "cell_type": "markdown",
   "id": "7a7a049d",
   "metadata": {},
   "source": [
    "# Merge TCA + TSA"
   ]
  },
  {
   "cell_type": "code",
   "execution_count": 112,
   "id": "730df275",
   "metadata": {},
   "outputs": [],
   "source": [
    "df_TSA = df_TSA.drop(columns= 'participant_id_y')"
   ]
  },
  {
   "cell_type": "code",
   "execution_count": 113,
   "id": "d0c1c78a",
   "metadata": {},
   "outputs": [],
   "source": [
    "df_tsa_tca = pd.concat([df_TSA, df_TCA])"
   ]
  },
  {
   "cell_type": "markdown",
   "id": "137fcc4a",
   "metadata": {},
   "source": [
    "### Clean NA"
   ]
  },
  {
   "cell_type": "code",
   "execution_count": 114,
   "id": "db6637be",
   "metadata": {},
   "outputs": [],
   "source": [
    "df_tsa_tca = df_tsa_tca.dropna(subset=['Sex', 'age_at_scan', 'ASD', 'scanner'])"
   ]
  },
  {
   "cell_type": "markdown",
   "id": "d5c8b2b2",
   "metadata": {},
   "source": [
    "### Filter 1.5 T / 3 T\n"
   ]
  },
  {
   "cell_type": "code",
   "execution_count": 115,
   "id": "5587d008",
   "metadata": {},
   "outputs": [],
   "source": [
    "df_tsa_tca = df_tsa_tca[df_tsa_tca.scanner != 'INGENIA_3T']"
   ]
  },
  {
   "cell_type": "code",
   "execution_count": 116,
   "id": "ef7ac754",
   "metadata": {},
   "outputs": [],
   "source": [
    "df_tsa_tca = df_tsa_tca[~((df_tsa_tca['magnetic_field_strength'] == '3')|(df_tsa_tca['machine'] == 'Ingenia_3T'))]"
   ]
  },
  {
   "cell_type": "markdown",
   "id": "bf2ea423",
   "metadata": {},
   "source": [
    "### Filter on age"
   ]
  },
  {
   "cell_type": "code",
   "execution_count": 117,
   "id": "e6858c60",
   "metadata": {},
   "outputs": [],
   "source": [
    "df_tsa_tca = df_tsa_tca[(df_tsa_tca['age_at_scan'] > 6) & (df_tsa_tca['age_at_scan'] < 16)]"
   ]
  },
  {
   "cell_type": "code",
   "execution_count": 118,
   "id": "59f3a159",
   "metadata": {},
   "outputs": [],
   "source": [
    "df_tsa_tca = df_tsa_tca.drop_duplicates('participant_id')"
   ]
  },
  {
   "cell_type": "code",
   "execution_count": 119,
   "id": "dfb2ddfb",
   "metadata": {},
   "outputs": [
    {
     "data": {
      "text/html": [
       "<div>\n",
       "<style scoped>\n",
       "    .dataframe tbody tr th:only-of-type {\n",
       "        vertical-align: middle;\n",
       "    }\n",
       "\n",
       "    .dataframe tbody tr th {\n",
       "        vertical-align: top;\n",
       "    }\n",
       "\n",
       "    .dataframe thead th {\n",
       "        text-align: right;\n",
       "    }\n",
       "</style>\n",
       "<table border=\"1\" class=\"dataframe\">\n",
       "  <thead>\n",
       "    <tr style=\"text-align: right;\">\n",
       "      <th></th>\n",
       "      <th></th>\n",
       "      <th>Count</th>\n",
       "    </tr>\n",
       "    <tr>\n",
       "      <th>Sex</th>\n",
       "      <th>ASD</th>\n",
       "      <th></th>\n",
       "    </tr>\n",
       "  </thead>\n",
       "  <tbody>\n",
       "    <tr>\n",
       "      <th rowspan=\"8\" valign=\"top\">Female</th>\n",
       "      <th>No</th>\n",
       "      <td>37</td>\n",
       "    </tr>\n",
       "    <tr>\n",
       "      <th>Pas_ASD</th>\n",
       "      <td>5</td>\n",
       "    </tr>\n",
       "    <tr>\n",
       "      <th>Relative</th>\n",
       "      <td>16</td>\n",
       "    </tr>\n",
       "    <tr>\n",
       "      <th>TCA</th>\n",
       "      <td>4</td>\n",
       "    </tr>\n",
       "    <tr>\n",
       "      <th>TCA_ac</th>\n",
       "      <td>33</td>\n",
       "    </tr>\n",
       "    <tr>\n",
       "      <th>TCA_pr</th>\n",
       "      <td>43</td>\n",
       "    </tr>\n",
       "    <tr>\n",
       "      <th>TD_Patient</th>\n",
       "      <td>1</td>\n",
       "    </tr>\n",
       "    <tr>\n",
       "      <th>Yes</th>\n",
       "      <td>49</td>\n",
       "    </tr>\n",
       "    <tr>\n",
       "      <th rowspan=\"8\" valign=\"top\">Male</th>\n",
       "      <th>No</th>\n",
       "      <td>49</td>\n",
       "    </tr>\n",
       "    <tr>\n",
       "      <th>Pas_ASD</th>\n",
       "      <td>3</td>\n",
       "    </tr>\n",
       "    <tr>\n",
       "      <th>Relative</th>\n",
       "      <td>14</td>\n",
       "    </tr>\n",
       "    <tr>\n",
       "      <th>TCA</th>\n",
       "      <td>1</td>\n",
       "    </tr>\n",
       "    <tr>\n",
       "      <th>TCA_Autism</th>\n",
       "      <td>2</td>\n",
       "    </tr>\n",
       "    <tr>\n",
       "      <th>TCA_ac</th>\n",
       "      <td>6</td>\n",
       "    </tr>\n",
       "    <tr>\n",
       "      <th>TCA_pr</th>\n",
       "      <td>4</td>\n",
       "    </tr>\n",
       "    <tr>\n",
       "      <th>Yes</th>\n",
       "      <td>240</td>\n",
       "    </tr>\n",
       "  </tbody>\n",
       "</table>\n",
       "</div>"
      ],
      "text/plain": [
       "                   Count\n",
       "Sex    ASD              \n",
       "Female No             37\n",
       "       Pas_ASD         5\n",
       "       Relative       16\n",
       "       TCA             4\n",
       "       TCA_ac         33\n",
       "       TCA_pr         43\n",
       "       TD_Patient      1\n",
       "       Yes            49\n",
       "Male   No             49\n",
       "       Pas_ASD         3\n",
       "       Relative       14\n",
       "       TCA             1\n",
       "       TCA_Autism      2\n",
       "       TCA_ac          6\n",
       "       TCA_pr          4\n",
       "       Yes           240"
      ]
     },
     "execution_count": 119,
     "metadata": {},
     "output_type": "execute_result"
    }
   ],
   "source": [
    "df_tsa_tca.groupby(['Sex', 'ASD']).size().to_frame('Count')"
   ]
  },
  {
   "cell_type": "code",
   "execution_count": 120,
   "id": "537fd544",
   "metadata": {},
   "outputs": [],
   "source": [
    "df_tsa_tca = df_tsa_tca.rename(columns={'3rd_Ventricle':'third_Ventricle',\n",
    "                           '4th_Ventricle' : 'fourth_Ventricle',\n",
    "                           '5th_Ventricle' : 'fifth_Ventricle'\n",
    "    \n",
    "})"
   ]
  },
  {
   "cell_type": "code",
   "execution_count": 1116,
   "id": "f1948145",
   "metadata": {},
   "outputs": [],
   "source": [
    "import random"
   ]
  },
  {
   "cell_type": "code",
   "execution_count": 1117,
   "id": "0bd0a56b",
   "metadata": {},
   "outputs": [],
   "source": [
    "df_tsa_tca = df_tsa_tca.reset_index(drop = True)"
   ]
  },
  {
   "cell_type": "code",
   "execution_count": 1118,
   "id": "38eb9913",
   "metadata": {},
   "outputs": [],
   "source": [
    "index_td = df_tsa_tca[(df_tsa_tca.ASD == 'Relative') | (df_tsa_tca.ASD == 'No')].index"
   ]
  },
  {
   "cell_type": "code",
   "execution_count": 1119,
   "id": "38f61342",
   "metadata": {},
   "outputs": [],
   "source": [
    "s1 =  random.sample(list(index_td), k = 59)"
   ]
  },
  {
   "cell_type": "code",
   "execution_count": 1120,
   "id": "3a8a5f4e",
   "metadata": {},
   "outputs": [],
   "source": [
    "s2 = list(index_td[~index_td.isin(s1)])"
   ]
  },
  {
   "cell_type": "code",
   "execution_count": 1121,
   "id": "9d3f1350",
   "metadata": {},
   "outputs": [],
   "source": [
    "df_tsa_tca['group_random'] = 0\n",
    "df_tsa_tca.loc[s1, 'group_random'] = 1\n",
    "df_tsa_tca.loc[s2, 'group_random'] = 2"
   ]
  },
  {
   "cell_type": "markdown",
   "id": "57cac2fa",
   "metadata": {},
   "source": [
    "## Export TSA + TCA"
   ]
  },
  {
   "cell_type": "code",
   "execution_count": 121,
   "id": "60fd1e85",
   "metadata": {},
   "outputs": [],
   "source": [
    "thick = [col for col in df_tsa_tca.columns if '_thickness' in col]\n",
    "thick.remove('lh_MeanThickness_thickness')\n",
    "thick.remove('rh_MeanThickness_thickness')\n",
    "len(thick)\n",
    "\n",
    "df_tsa_tca['meanCT'] = df_tsa_tca[['lh_MeanThickness_thickness', 'rh_MeanThickness_thickness']].mean(axis=1)"
   ]
  },
  {
   "cell_type": "code",
   "execution_count": 122,
   "id": "50057a7b",
   "metadata": {},
   "outputs": [],
   "source": [
    "arean  = [col for col in df_tsa_tca.columns if '_area' in col]\n",
    "arean.remove('rh_WhiteSurfArea_area')\n",
    "arean.remove('lh_WhiteSurfArea_area')\n",
    "arean.remove('Left_Accumbens_area'),\n",
    "arean.remove('Right_Accumbens_area')\n",
    "\n",
    "df_tsa_tca['totalSA'] = df_tsa_tca[arean].sum(axis = 1)"
   ]
  },
  {
   "cell_type": "code",
   "execution_count": 123,
   "id": "7955facc",
   "metadata": {},
   "outputs": [],
   "source": [
    "df_tsa_tca.to_csv(os.path.join(data_dir, 'Outputs/df_tsa_tca.csv'))"
   ]
  },
  {
   "cell_type": "code",
   "execution_count": 124,
   "id": "2b9496ac",
   "metadata": {
    "scrolled": true
   },
   "outputs": [
    {
     "data": {
      "text/plain": [
       "Protocole    0\n",
       "sex          0\n",
       "ASD          0\n",
       "scanner      0\n",
       "dtype: int64"
      ]
     },
     "execution_count": 124,
     "metadata": {},
     "output_type": "execute_result"
    }
   ],
   "source": [
    "df_tsa_tca[['Protocole', 'sex', 'ASD', 'scanner']].isna().sum()"
   ]
  },
  {
   "cell_type": "code",
   "execution_count": 125,
   "id": "7fd431d9",
   "metadata": {},
   "outputs": [
    {
     "name": "stdout",
     "output_type": "stream",
     "text": [
      "Subject,\n",
      "lh_bankssts_area,\n",
      "lh_caudalanteriorcingulate_area,\n",
      "lh_caudalmiddlefrontal_area,\n",
      "lh_cuneus_area,\n",
      "lh_entorhinal_area,\n",
      "lh_fusiform_area,\n",
      "lh_inferiorparietal_area,\n",
      "lh_inferiortemporal_area,\n",
      "lh_isthmuscingulate_area,\n",
      "lh_lateraloccipital_area,\n",
      "lh_lateralorbitofrontal_area,\n",
      "lh_lingual_area,\n",
      "lh_medialorbitofrontal_area,\n",
      "lh_middletemporal_area,\n",
      "lh_parahippocampal_area,\n",
      "lh_paracentral_area,\n",
      "lh_parsopercularis_area,\n",
      "lh_parsorbitalis_area,\n",
      "lh_parstriangularis_area,\n",
      "lh_pericalcarine_area,\n",
      "lh_postcentral_area,\n",
      "lh_posteriorcingulate_area,\n",
      "lh_precentral_area,\n",
      "lh_precuneus_area,\n",
      "lh_rostralanteriorcingulate_area,\n",
      "lh_rostralmiddlefrontal_area,\n",
      "lh_superiorfrontal_area,\n",
      "lh_superiorparietal_area,\n",
      "lh_superiortemporal_area,\n",
      "lh_supramarginal_area,\n",
      "lh_frontalpole_area,\n",
      "lh_temporalpole_area,\n",
      "lh_transversetemporal_area,\n",
      "lh_insula_area,\n",
      "lh_WhiteSurfArea_area,\n",
      "BrainSegVolNotVent_x,\n",
      "eTIV_x,\n",
      "rh_bankssts_area,\n",
      "rh_caudalanteriorcingulate_area,\n",
      "rh_caudalmiddlefrontal_area,\n",
      "rh_cuneus_area,\n",
      "rh_entorhinal_area,\n",
      "rh_fusiform_area,\n",
      "rh_inferiorparietal_area,\n",
      "rh_inferiortemporal_area,\n",
      "rh_isthmuscingulate_area,\n",
      "rh_lateraloccipital_area,\n",
      "rh_lateralorbitofrontal_area,\n",
      "rh_lingual_area,\n",
      "rh_medialorbitofrontal_area,\n",
      "rh_middletemporal_area,\n",
      "rh_parahippocampal_area,\n",
      "rh_paracentral_area,\n",
      "rh_parsopercularis_area,\n",
      "rh_parsorbitalis_area,\n",
      "rh_parstriangularis_area,\n",
      "rh_pericalcarine_area,\n",
      "rh_postcentral_area,\n",
      "rh_posteriorcingulate_area,\n",
      "rh_precentral_area,\n",
      "rh_precuneus_area,\n",
      "rh_rostralanteriorcingulate_area,\n",
      "rh_rostralmiddlefrontal_area,\n",
      "rh_superiorfrontal_area,\n",
      "rh_superiorparietal_area,\n",
      "rh_superiortemporal_area,\n",
      "rh_supramarginal_area,\n",
      "rh_frontalpole_area,\n",
      "rh_temporalpole_area,\n",
      "rh_transversetemporal_area,\n",
      "rh_insula_area,\n",
      "rh_WhiteSurfArea_area,\n",
      "BrainSegVolNotVent_y,\n",
      "eTIV_y,\n",
      "Protocole,\n"
     ]
    }
   ],
   "source": [
    "for i in area:\n",
    "    print(i+',')"
   ]
  },
  {
   "cell_type": "code",
   "execution_count": 96,
   "id": "ebb11311",
   "metadata": {},
   "outputs": [
    {
     "name": "stdout",
     "output_type": "stream",
     "text": [
      "lh_bankssts_thickness,\n",
      "lh_caudalanteriorcingulate_thickness,\n",
      "lh_caudalmiddlefrontal_thickness,\n",
      "lh_cuneus_thickness,\n",
      "lh_entorhinal_thickness,\n",
      "lh_fusiform_thickness,\n",
      "lh_inferiorparietal_thickness,\n",
      "lh_inferiortemporal_thickness,\n",
      "lh_isthmuscingulate_thickness,\n",
      "lh_lateraloccipital_thickness,\n",
      "lh_lateralorbitofrontal_thickness,\n",
      "lh_lingual_thickness,\n",
      "lh_medialorbitofrontal_thickness,\n",
      "lh_middletemporal_thickness,\n",
      "lh_parahippocampal_thickness,\n",
      "lh_paracentral_thickness,\n",
      "lh_parsopercularis_thickness,\n",
      "lh_parsorbitalis_thickness,\n",
      "lh_parstriangularis_thickness,\n",
      "lh_pericalcarine_thickness,\n",
      "lh_postcentral_thickness,\n",
      "lh_posteriorcingulate_thickness,\n",
      "lh_precentral_thickness,\n",
      "lh_precuneus_thickness,\n",
      "lh_rostralanteriorcingulate_thickness,\n",
      "lh_rostralmiddlefrontal_thickness,\n",
      "lh_superiorfrontal_thickness,\n",
      "lh_superiorparietal_thickness,\n",
      "lh_superiortemporal_thickness,\n",
      "lh_supramarginal_thickness,\n",
      "lh_frontalpole_thickness,\n",
      "lh_temporalpole_thickness,\n",
      "lh_transversetemporal_thickness,\n",
      "lh_insula_thickness,\n",
      "rh_bankssts_thickness,\n",
      "rh_caudalanteriorcingulate_thickness,\n",
      "rh_caudalmiddlefrontal_thickness,\n",
      "rh_cuneus_thickness,\n",
      "rh_entorhinal_thickness,\n",
      "rh_fusiform_thickness,\n",
      "rh_inferiorparietal_thickness,\n",
      "rh_inferiortemporal_thickness,\n",
      "rh_isthmuscingulate_thickness,\n",
      "rh_lateraloccipital_thickness,\n",
      "rh_lateralorbitofrontal_thickness,\n",
      "rh_lingual_thickness,\n",
      "rh_medialorbitofrontal_thickness,\n",
      "rh_middletemporal_thickness,\n",
      "rh_parahippocampal_thickness,\n",
      "rh_paracentral_thickness,\n",
      "rh_parsopercularis_thickness,\n",
      "rh_parsorbitalis_thickness,\n",
      "rh_parstriangularis_thickness,\n",
      "rh_pericalcarine_thickness,\n",
      "rh_postcentral_thickness,\n",
      "rh_posteriorcingulate_thickness,\n",
      "rh_precentral_thickness,\n",
      "rh_precuneus_thickness,\n",
      "rh_rostralanteriorcingulate_thickness,\n",
      "rh_rostralmiddlefrontal_thickness,\n",
      "rh_superiorfrontal_thickness,\n",
      "rh_superiorparietal_thickness,\n",
      "rh_superiortemporal_thickness,\n",
      "rh_supramarginal_thickness,\n",
      "rh_frontalpole_thickness,\n",
      "rh_temporalpole_thickness,\n",
      "rh_transversetemporal_thickness,\n",
      "rh_insula_thickness,\n"
     ]
    }
   ],
   "source": [
    "for i in thick:\n",
    "    print(i+',')"
   ]
  },
  {
   "cell_type": "code",
   "execution_count": 97,
   "id": "d00db6ac",
   "metadata": {},
   "outputs": [
    {
     "data": {
      "text/plain": [
       "['lh_bankssts_thickness',\n",
       " 'lh_caudalanteriorcingulate_thickness',\n",
       " 'lh_caudalmiddlefrontal_thickness',\n",
       " 'lh_cuneus_thickness',\n",
       " 'lh_entorhinal_thickness',\n",
       " 'lh_fusiform_thickness',\n",
       " 'lh_inferiorparietal_thickness',\n",
       " 'lh_inferiortemporal_thickness',\n",
       " 'lh_isthmuscingulate_thickness',\n",
       " 'lh_lateraloccipital_thickness',\n",
       " 'lh_lateralorbitofrontal_thickness',\n",
       " 'lh_lingual_thickness',\n",
       " 'lh_medialorbitofrontal_thickness',\n",
       " 'lh_middletemporal_thickness',\n",
       " 'lh_parahippocampal_thickness',\n",
       " 'lh_paracentral_thickness',\n",
       " 'lh_parsopercularis_thickness',\n",
       " 'lh_parsorbitalis_thickness',\n",
       " 'lh_parstriangularis_thickness',\n",
       " 'lh_pericalcarine_thickness',\n",
       " 'lh_postcentral_thickness',\n",
       " 'lh_posteriorcingulate_thickness',\n",
       " 'lh_precentral_thickness',\n",
       " 'lh_precuneus_thickness',\n",
       " 'lh_rostralanteriorcingulate_thickness',\n",
       " 'lh_rostralmiddlefrontal_thickness',\n",
       " 'lh_superiorfrontal_thickness',\n",
       " 'lh_superiorparietal_thickness',\n",
       " 'lh_superiortemporal_thickness',\n",
       " 'lh_supramarginal_thickness',\n",
       " 'lh_frontalpole_thickness',\n",
       " 'lh_temporalpole_thickness',\n",
       " 'lh_transversetemporal_thickness',\n",
       " 'lh_insula_thickness',\n",
       " 'rh_bankssts_thickness',\n",
       " 'rh_caudalanteriorcingulate_thickness',\n",
       " 'rh_caudalmiddlefrontal_thickness',\n",
       " 'rh_cuneus_thickness',\n",
       " 'rh_entorhinal_thickness',\n",
       " 'rh_fusiform_thickness',\n",
       " 'rh_inferiorparietal_thickness',\n",
       " 'rh_inferiortemporal_thickness',\n",
       " 'rh_isthmuscingulate_thickness',\n",
       " 'rh_lateraloccipital_thickness',\n",
       " 'rh_lateralorbitofrontal_thickness',\n",
       " 'rh_lingual_thickness',\n",
       " 'rh_medialorbitofrontal_thickness',\n",
       " 'rh_middletemporal_thickness',\n",
       " 'rh_parahippocampal_thickness',\n",
       " 'rh_paracentral_thickness',\n",
       " 'rh_parsopercularis_thickness',\n",
       " 'rh_parsorbitalis_thickness',\n",
       " 'rh_parstriangularis_thickness',\n",
       " 'rh_pericalcarine_thickness',\n",
       " 'rh_postcentral_thickness',\n",
       " 'rh_posteriorcingulate_thickness',\n",
       " 'rh_precentral_thickness',\n",
       " 'rh_precuneus_thickness',\n",
       " 'rh_rostralanteriorcingulate_thickness',\n",
       " 'rh_rostralmiddlefrontal_thickness',\n",
       " 'rh_superiorfrontal_thickness',\n",
       " 'rh_superiorparietal_thickness',\n",
       " 'rh_superiortemporal_thickness',\n",
       " 'rh_supramarginal_thickness',\n",
       " 'rh_frontalpole_thickness',\n",
       " 'rh_temporalpole_thickness',\n",
       " 'rh_transversetemporal_thickness',\n",
       " 'rh_insula_thickness']"
      ]
     },
     "execution_count": 97,
     "metadata": {},
     "output_type": "execute_result"
    }
   ],
   "source": [
    "thick"
   ]
  },
  {
   "cell_type": "code",
   "execution_count": 95,
   "id": "8690af2d",
   "metadata": {},
   "outputs": [],
   "source": [
    "vol = ['Left_Lateral_Ventricle', 'Left_Inf_Lat_Vent',\n",
    "       'Left_Cerebellum_White_Matter', 'Left_Cerebellum_Cortex',\n",
    "       'Left_Thalamus', 'Left_Caudate', 'Left_Putamen', 'Left_Pallidum',\n",
    "       'third_Ventricle', 'fourth_Ventricle', 'Brain_Stem', 'Left_Hippocampus',\n",
    "       'Left_Amygdala', 'CSF', 'Left_Accumbens_area', 'Left_VentralDC',\n",
    "       'Left_vessel', 'Left_choroid_plexus', 'Right_Lateral_Ventricle',\n",
    "       'Right_Inf_Lat_Vent', 'Right_Cerebellum_White_Matter',\n",
    "       'Right_Cerebellum_Cortex', 'Right_Thalamus', 'Right_Caudate',\n",
    "       'Right_Putamen', 'Right_Pallidum', 'Right_Hippocampus',\n",
    "       'Right_Amygdala', 'Right_Accumbens_area', 'Right_VentralDC',\n",
    "       'Right_vessel', 'Right_choroid_plexus', 'fifth_Ventricle']"
   ]
  },
  {
   "cell_type": "code",
   "execution_count": 164,
   "id": "0855268e",
   "metadata": {},
   "outputs": [
    {
     "data": {
      "text/plain": [
       "0      2.707100\n",
       "1      2.662850\n",
       "2      2.716115\n",
       "3      2.729830\n",
       "6      2.583240\n",
       "         ...   \n",
       "111    2.435210\n",
       "112    2.480660\n",
       "113    2.800270\n",
       "114    2.758875\n",
       "115    2.431040\n",
       "Length: 506, dtype: float64"
      ]
     },
     "execution_count": 164,
     "metadata": {},
     "output_type": "execute_result"
    }
   ],
   "source": [
    "df_tsa_tca[['lh_MeanThickness_thickness', 'rh_MeanThickness_thickness']].mean(axis = 1)"
   ]
  },
  {
   "cell_type": "code",
   "execution_count": 162,
   "id": "21531aeb",
   "metadata": {},
   "outputs": [
    {
     "data": {
      "text/plain": [
       "0      2.707100\n",
       "1      2.662850\n",
       "2      2.716115\n",
       "3      2.729830\n",
       "6      2.583240\n",
       "         ...   \n",
       "111    2.435210\n",
       "112    2.480660\n",
       "113    2.800270\n",
       "114    2.758875\n",
       "115    2.431040\n",
       "Name: meanCT, Length: 506, dtype: float64"
      ]
     },
     "execution_count": 162,
     "metadata": {},
     "output_type": "execute_result"
    }
   ],
   "source": [
    "df_tsa_tca.meanCT"
   ]
  },
  {
   "cell_type": "code",
   "execution_count": 100,
   "id": "e9dd8e62",
   "metadata": {
    "scrolled": true
   },
   "outputs": [
    {
     "data": {
      "text/html": [
       "<div>\n",
       "<style scoped>\n",
       "    .dataframe tbody tr th:only-of-type {\n",
       "        vertical-align: middle;\n",
       "    }\n",
       "\n",
       "    .dataframe tbody tr th {\n",
       "        vertical-align: top;\n",
       "    }\n",
       "\n",
       "    .dataframe thead th {\n",
       "        text-align: right;\n",
       "    }\n",
       "</style>\n",
       "<table border=\"1\" class=\"dataframe\">\n",
       "  <thead>\n",
       "    <tr style=\"text-align: right;\">\n",
       "      <th></th>\n",
       "      <th>Left_Lateral_Ventricle</th>\n",
       "      <th>Left_Inf_Lat_Vent</th>\n",
       "      <th>Left_Cerebellum_White_Matter</th>\n",
       "      <th>Left_Cerebellum_Cortex</th>\n",
       "      <th>Left_Thalamus</th>\n",
       "      <th>Left_Caudate</th>\n",
       "      <th>Left_Putamen</th>\n",
       "      <th>Left_Pallidum</th>\n",
       "      <th>third_Ventricle</th>\n",
       "      <th>fourth_Ventricle</th>\n",
       "      <th>...</th>\n",
       "      <th>Right_Caudate</th>\n",
       "      <th>Right_Putamen</th>\n",
       "      <th>Right_Pallidum</th>\n",
       "      <th>Right_Hippocampus</th>\n",
       "      <th>Right_Amygdala</th>\n",
       "      <th>Right_Accumbens_area</th>\n",
       "      <th>Right_VentralDC</th>\n",
       "      <th>Right_vessel</th>\n",
       "      <th>Right_choroid_plexus</th>\n",
       "      <th>fifth_Ventricle</th>\n",
       "    </tr>\n",
       "  </thead>\n",
       "  <tbody>\n",
       "    <tr>\n",
       "      <th>0</th>\n",
       "      <td>NaN</td>\n",
       "      <td>NaN</td>\n",
       "      <td>NaN</td>\n",
       "      <td>NaN</td>\n",
       "      <td>NaN</td>\n",
       "      <td>NaN</td>\n",
       "      <td>NaN</td>\n",
       "      <td>NaN</td>\n",
       "      <td>NaN</td>\n",
       "      <td>NaN</td>\n",
       "      <td>...</td>\n",
       "      <td>NaN</td>\n",
       "      <td>NaN</td>\n",
       "      <td>NaN</td>\n",
       "      <td>NaN</td>\n",
       "      <td>NaN</td>\n",
       "      <td>NaN</td>\n",
       "      <td>NaN</td>\n",
       "      <td>NaN</td>\n",
       "      <td>NaN</td>\n",
       "      <td>NaN</td>\n",
       "    </tr>\n",
       "    <tr>\n",
       "      <th>1</th>\n",
       "      <td>NaN</td>\n",
       "      <td>NaN</td>\n",
       "      <td>NaN</td>\n",
       "      <td>NaN</td>\n",
       "      <td>NaN</td>\n",
       "      <td>NaN</td>\n",
       "      <td>NaN</td>\n",
       "      <td>NaN</td>\n",
       "      <td>NaN</td>\n",
       "      <td>NaN</td>\n",
       "      <td>...</td>\n",
       "      <td>NaN</td>\n",
       "      <td>NaN</td>\n",
       "      <td>NaN</td>\n",
       "      <td>NaN</td>\n",
       "      <td>NaN</td>\n",
       "      <td>NaN</td>\n",
       "      <td>NaN</td>\n",
       "      <td>NaN</td>\n",
       "      <td>NaN</td>\n",
       "      <td>NaN</td>\n",
       "    </tr>\n",
       "    <tr>\n",
       "      <th>2</th>\n",
       "      <td>NaN</td>\n",
       "      <td>NaN</td>\n",
       "      <td>NaN</td>\n",
       "      <td>NaN</td>\n",
       "      <td>NaN</td>\n",
       "      <td>NaN</td>\n",
       "      <td>NaN</td>\n",
       "      <td>NaN</td>\n",
       "      <td>NaN</td>\n",
       "      <td>NaN</td>\n",
       "      <td>...</td>\n",
       "      <td>NaN</td>\n",
       "      <td>NaN</td>\n",
       "      <td>NaN</td>\n",
       "      <td>NaN</td>\n",
       "      <td>NaN</td>\n",
       "      <td>NaN</td>\n",
       "      <td>NaN</td>\n",
       "      <td>NaN</td>\n",
       "      <td>NaN</td>\n",
       "      <td>NaN</td>\n",
       "    </tr>\n",
       "    <tr>\n",
       "      <th>3</th>\n",
       "      <td>NaN</td>\n",
       "      <td>NaN</td>\n",
       "      <td>NaN</td>\n",
       "      <td>NaN</td>\n",
       "      <td>NaN</td>\n",
       "      <td>NaN</td>\n",
       "      <td>NaN</td>\n",
       "      <td>NaN</td>\n",
       "      <td>NaN</td>\n",
       "      <td>NaN</td>\n",
       "      <td>...</td>\n",
       "      <td>NaN</td>\n",
       "      <td>NaN</td>\n",
       "      <td>NaN</td>\n",
       "      <td>NaN</td>\n",
       "      <td>NaN</td>\n",
       "      <td>NaN</td>\n",
       "      <td>NaN</td>\n",
       "      <td>NaN</td>\n",
       "      <td>NaN</td>\n",
       "      <td>NaN</td>\n",
       "    </tr>\n",
       "    <tr>\n",
       "      <th>6</th>\n",
       "      <td>NaN</td>\n",
       "      <td>NaN</td>\n",
       "      <td>NaN</td>\n",
       "      <td>NaN</td>\n",
       "      <td>NaN</td>\n",
       "      <td>NaN</td>\n",
       "      <td>NaN</td>\n",
       "      <td>NaN</td>\n",
       "      <td>NaN</td>\n",
       "      <td>NaN</td>\n",
       "      <td>...</td>\n",
       "      <td>NaN</td>\n",
       "      <td>NaN</td>\n",
       "      <td>NaN</td>\n",
       "      <td>NaN</td>\n",
       "      <td>NaN</td>\n",
       "      <td>NaN</td>\n",
       "      <td>NaN</td>\n",
       "      <td>NaN</td>\n",
       "      <td>NaN</td>\n",
       "      <td>NaN</td>\n",
       "    </tr>\n",
       "    <tr>\n",
       "      <th>...</th>\n",
       "      <td>...</td>\n",
       "      <td>...</td>\n",
       "      <td>...</td>\n",
       "      <td>...</td>\n",
       "      <td>...</td>\n",
       "      <td>...</td>\n",
       "      <td>...</td>\n",
       "      <td>...</td>\n",
       "      <td>...</td>\n",
       "      <td>...</td>\n",
       "      <td>...</td>\n",
       "      <td>...</td>\n",
       "      <td>...</td>\n",
       "      <td>...</td>\n",
       "      <td>...</td>\n",
       "      <td>...</td>\n",
       "      <td>...</td>\n",
       "      <td>...</td>\n",
       "      <td>...</td>\n",
       "      <td>...</td>\n",
       "      <td>...</td>\n",
       "    </tr>\n",
       "    <tr>\n",
       "      <th>119</th>\n",
       "      <td>4147.4</td>\n",
       "      <td>383.5</td>\n",
       "      <td>12894.4</td>\n",
       "      <td>47780.2</td>\n",
       "      <td>6557.0</td>\n",
       "      <td>3589.7</td>\n",
       "      <td>4533.0</td>\n",
       "      <td>1556.8</td>\n",
       "      <td>846.3</td>\n",
       "      <td>1635.3</td>\n",
       "      <td>...</td>\n",
       "      <td>3730.6</td>\n",
       "      <td>4635.2</td>\n",
       "      <td>1486.8</td>\n",
       "      <td>3377.8</td>\n",
       "      <td>1416.7</td>\n",
       "      <td>675.5</td>\n",
       "      <td>3678.1</td>\n",
       "      <td>8.8</td>\n",
       "      <td>385.0</td>\n",
       "      <td>0.0</td>\n",
       "    </tr>\n",
       "    <tr>\n",
       "      <th>120</th>\n",
       "      <td>12727.6</td>\n",
       "      <td>739.4</td>\n",
       "      <td>14169.9</td>\n",
       "      <td>56411.3</td>\n",
       "      <td>6884.8</td>\n",
       "      <td>3235.6</td>\n",
       "      <td>4595.3</td>\n",
       "      <td>1883.0</td>\n",
       "      <td>1844.2</td>\n",
       "      <td>2455.2</td>\n",
       "      <td>...</td>\n",
       "      <td>3376.3</td>\n",
       "      <td>4518.4</td>\n",
       "      <td>1786.7</td>\n",
       "      <td>3902.4</td>\n",
       "      <td>1019.9</td>\n",
       "      <td>617.8</td>\n",
       "      <td>3464.5</td>\n",
       "      <td>40.5</td>\n",
       "      <td>573.7</td>\n",
       "      <td>0.0</td>\n",
       "    </tr>\n",
       "    <tr>\n",
       "      <th>121</th>\n",
       "      <td>8126.8</td>\n",
       "      <td>218.9</td>\n",
       "      <td>12007.8</td>\n",
       "      <td>58053.7</td>\n",
       "      <td>7268.1</td>\n",
       "      <td>3978.9</td>\n",
       "      <td>5122.6</td>\n",
       "      <td>1740.1</td>\n",
       "      <td>972.9</td>\n",
       "      <td>1439.5</td>\n",
       "      <td>...</td>\n",
       "      <td>4274.8</td>\n",
       "      <td>5149.8</td>\n",
       "      <td>1770.3</td>\n",
       "      <td>3363.6</td>\n",
       "      <td>1282.0</td>\n",
       "      <td>697.5</td>\n",
       "      <td>3427.6</td>\n",
       "      <td>10.7</td>\n",
       "      <td>498.5</td>\n",
       "      <td>0.0</td>\n",
       "    </tr>\n",
       "    <tr>\n",
       "      <th>122</th>\n",
       "      <td>2972.1</td>\n",
       "      <td>305.6</td>\n",
       "      <td>13193.5</td>\n",
       "      <td>53362.2</td>\n",
       "      <td>8082.3</td>\n",
       "      <td>3626.2</td>\n",
       "      <td>4908.1</td>\n",
       "      <td>1906.4</td>\n",
       "      <td>649.6</td>\n",
       "      <td>1272.4</td>\n",
       "      <td>...</td>\n",
       "      <td>4125.6</td>\n",
       "      <td>5128.1</td>\n",
       "      <td>1787.7</td>\n",
       "      <td>3803.0</td>\n",
       "      <td>1341.7</td>\n",
       "      <td>727.8</td>\n",
       "      <td>3531.7</td>\n",
       "      <td>16.1</td>\n",
       "      <td>588.7</td>\n",
       "      <td>0.0</td>\n",
       "    </tr>\n",
       "    <tr>\n",
       "      <th>123</th>\n",
       "      <td>6511.2</td>\n",
       "      <td>330.5</td>\n",
       "      <td>11557.2</td>\n",
       "      <td>49122.1</td>\n",
       "      <td>6157.3</td>\n",
       "      <td>3870.7</td>\n",
       "      <td>4602.1</td>\n",
       "      <td>1579.2</td>\n",
       "      <td>1467.5</td>\n",
       "      <td>1552.5</td>\n",
       "      <td>...</td>\n",
       "      <td>4165.9</td>\n",
       "      <td>4876.8</td>\n",
       "      <td>1609.6</td>\n",
       "      <td>3568.9</td>\n",
       "      <td>1304.7</td>\n",
       "      <td>630.0</td>\n",
       "      <td>3317.9</td>\n",
       "      <td>10.1</td>\n",
       "      <td>493.4</td>\n",
       "      <td>0.0</td>\n",
       "    </tr>\n",
       "  </tbody>\n",
       "</table>\n",
       "<p>483 rows × 33 columns</p>\n",
       "</div>"
      ],
      "text/plain": [
       "     Left_Lateral_Ventricle  Left_Inf_Lat_Vent  Left_Cerebellum_White_Matter  \\\n",
       "0                       NaN                NaN                           NaN   \n",
       "1                       NaN                NaN                           NaN   \n",
       "2                       NaN                NaN                           NaN   \n",
       "3                       NaN                NaN                           NaN   \n",
       "6                       NaN                NaN                           NaN   \n",
       "..                      ...                ...                           ...   \n",
       "119                  4147.4              383.5                       12894.4   \n",
       "120                 12727.6              739.4                       14169.9   \n",
       "121                  8126.8              218.9                       12007.8   \n",
       "122                  2972.1              305.6                       13193.5   \n",
       "123                  6511.2              330.5                       11557.2   \n",
       "\n",
       "     Left_Cerebellum_Cortex  Left_Thalamus  Left_Caudate  Left_Putamen  \\\n",
       "0                       NaN            NaN           NaN           NaN   \n",
       "1                       NaN            NaN           NaN           NaN   \n",
       "2                       NaN            NaN           NaN           NaN   \n",
       "3                       NaN            NaN           NaN           NaN   \n",
       "6                       NaN            NaN           NaN           NaN   \n",
       "..                      ...            ...           ...           ...   \n",
       "119                 47780.2         6557.0        3589.7        4533.0   \n",
       "120                 56411.3         6884.8        3235.6        4595.3   \n",
       "121                 58053.7         7268.1        3978.9        5122.6   \n",
       "122                 53362.2         8082.3        3626.2        4908.1   \n",
       "123                 49122.1         6157.3        3870.7        4602.1   \n",
       "\n",
       "     Left_Pallidum  third_Ventricle  fourth_Ventricle  ...  Right_Caudate  \\\n",
       "0              NaN              NaN               NaN  ...            NaN   \n",
       "1              NaN              NaN               NaN  ...            NaN   \n",
       "2              NaN              NaN               NaN  ...            NaN   \n",
       "3              NaN              NaN               NaN  ...            NaN   \n",
       "6              NaN              NaN               NaN  ...            NaN   \n",
       "..             ...              ...               ...  ...            ...   \n",
       "119         1556.8            846.3            1635.3  ...         3730.6   \n",
       "120         1883.0           1844.2            2455.2  ...         3376.3   \n",
       "121         1740.1            972.9            1439.5  ...         4274.8   \n",
       "122         1906.4            649.6            1272.4  ...         4125.6   \n",
       "123         1579.2           1467.5            1552.5  ...         4165.9   \n",
       "\n",
       "     Right_Putamen  Right_Pallidum  Right_Hippocampus  Right_Amygdala  \\\n",
       "0              NaN             NaN                NaN             NaN   \n",
       "1              NaN             NaN                NaN             NaN   \n",
       "2              NaN             NaN                NaN             NaN   \n",
       "3              NaN             NaN                NaN             NaN   \n",
       "6              NaN             NaN                NaN             NaN   \n",
       "..             ...             ...                ...             ...   \n",
       "119         4635.2          1486.8             3377.8          1416.7   \n",
       "120         4518.4          1786.7             3902.4          1019.9   \n",
       "121         5149.8          1770.3             3363.6          1282.0   \n",
       "122         5128.1          1787.7             3803.0          1341.7   \n",
       "123         4876.8          1609.6             3568.9          1304.7   \n",
       "\n",
       "     Right_Accumbens_area  Right_VentralDC  Right_vessel  \\\n",
       "0                     NaN              NaN           NaN   \n",
       "1                     NaN              NaN           NaN   \n",
       "2                     NaN              NaN           NaN   \n",
       "3                     NaN              NaN           NaN   \n",
       "6                     NaN              NaN           NaN   \n",
       "..                    ...              ...           ...   \n",
       "119                 675.5           3678.1           8.8   \n",
       "120                 617.8           3464.5          40.5   \n",
       "121                 697.5           3427.6          10.7   \n",
       "122                 727.8           3531.7          16.1   \n",
       "123                 630.0           3317.9          10.1   \n",
       "\n",
       "     Right_choroid_plexus  fifth_Ventricle  \n",
       "0                     NaN              NaN  \n",
       "1                     NaN              NaN  \n",
       "2                     NaN              NaN  \n",
       "3                     NaN              NaN  \n",
       "6                     NaN              NaN  \n",
       "..                    ...              ...  \n",
       "119                 385.0              0.0  \n",
       "120                 573.7              0.0  \n",
       "121                 498.5              0.0  \n",
       "122                 588.7              0.0  \n",
       "123                 493.4              0.0  \n",
       "\n",
       "[483 rows x 33 columns]"
      ]
     },
     "execution_count": 100,
     "metadata": {},
     "output_type": "execute_result"
    }
   ],
   "source": [
    "df_tsa_tca[vol]"
   ]
  },
  {
   "cell_type": "code",
   "execution_count": 96,
   "id": "8052ce1a",
   "metadata": {},
   "outputs": [
    {
     "name": "stdout",
     "output_type": "stream",
     "text": [
      "Left_Lateral_Ventricle,\n",
      "Left_Inf_Lat_Vent,\n",
      "Left_Cerebellum_White_Matter,\n",
      "Left_Cerebellum_Cortex,\n",
      "Left_Thalamus,\n",
      "Left_Caudate,\n",
      "Left_Putamen,\n",
      "Left_Pallidum,\n",
      "third_Ventricle,\n",
      "fourth_Ventricle,\n",
      "Brain_Stem,\n",
      "Left_Hippocampus,\n",
      "Left_Amygdala,\n",
      "CSF,\n",
      "Left_Accumbens_area,\n",
      "Left_VentralDC,\n",
      "Left_vessel,\n",
      "Left_choroid_plexus,\n",
      "Right_Lateral_Ventricle,\n",
      "Right_Inf_Lat_Vent,\n",
      "Right_Cerebellum_White_Matter,\n",
      "Right_Cerebellum_Cortex,\n",
      "Right_Thalamus,\n",
      "Right_Caudate,\n",
      "Right_Putamen,\n",
      "Right_Pallidum,\n",
      "Right_Hippocampus,\n",
      "Right_Amygdala,\n",
      "Right_Accumbens_area,\n",
      "Right_VentralDC,\n",
      "Right_vessel,\n",
      "Right_choroid_plexus,\n",
      "fifth_Ventricle,\n"
     ]
    }
   ],
   "source": [
    "for i in vol:\n",
    "    print(i+',')"
   ]
  },
  {
   "cell_type": "code",
   "execution_count": 101,
   "id": "e9ece3f3",
   "metadata": {},
   "outputs": [
    {
     "data": {
      "text/plain": [
       "Index(['Subject', 'BrainSeg', 'BrainSegNotVent', 'VentricleChoroidVol',\n",
       "       'lhCortex', 'rhCortex', 'Cortex', 'lhCerebralWhiteMatter',\n",
       "       'rhCerebralWhiteMatter', 'CerebralWhiteMatter', 'SubCortGray',\n",
       "       'TotalGray', 'SupraTentorial', 'SupraTentorialNotVent', 'Mask',\n",
       "       'BrainSegVol_to_eTIV', 'MaskVol_to_eTIV', 'lhSurfaceHoles',\n",
       "       'rhSurfaceHoles', 'SurfaceHoles', 'EstimatedTotalIntraCranialVol',\n",
       "       'Left_Lateral_Ventricle', 'Left_Inf_Lat_Vent',\n",
       "       'Left_Cerebellum_White_Matter', 'Left_Cerebellum_Cortex',\n",
       "       'Left_Thalamus', 'Left_Caudate', 'Left_Putamen', 'Left_Pallidum',\n",
       "       '3rd_Ventricle', '4th_Ventricle', 'Brain_Stem', 'Left_Hippocampus',\n",
       "       'Left_Amygdala', 'CSF', 'Left_Accumbens_area', 'Left_VentralDC',\n",
       "       'Left_vessel', 'Left_choroid_plexus', 'Right_Lateral_Ventricle',\n",
       "       'Right_Inf_Lat_Vent', 'Right_Cerebellum_White_Matter',\n",
       "       'Right_Cerebellum_Cortex', 'Right_Thalamus', 'Right_Caudate',\n",
       "       'Right_Putamen', 'Right_Pallidum', 'Right_Hippocampus',\n",
       "       'Right_Amygdala', 'Right_Accumbens_area', 'Right_VentralDC',\n",
       "       'Right_vessel', 'Right_choroid_plexus', '5th_Ventricle',\n",
       "       'WM_hypointensities', 'Left_WM_hypointensities',\n",
       "       'Right_WM_hypointensities', 'non_WM_hypointensities',\n",
       "       'Left_non_WM_hypointensities', 'Right_non_WM_hypointensities',\n",
       "       'Optic_Chiasm', 'CC_Posterior', 'CC_Mid_Posterior', 'CC_Central',\n",
       "       'CC_Mid_Anterior', 'CC_Anterior'],\n",
       "      dtype='object')"
      ]
     },
     "execution_count": 101,
     "metadata": {},
     "output_type": "execute_result"
    }
   ],
   "source": [
    "vol_tsa.columns.str.replace('-','_')"
   ]
  },
  {
   "cell_type": "code",
   "execution_count": null,
   "id": "940c0b5f",
   "metadata": {},
   "outputs": [],
   "source": []
  }
 ],
 "metadata": {
  "kernelspec": {
   "display_name": "Python 3 (ipykernel)",
   "language": "python",
   "name": "python3"
  },
  "language_info": {
   "codemirror_mode": {
    "name": "ipython",
    "version": 3
   },
   "file_extension": ".py",
   "mimetype": "text/x-python",
   "name": "python",
   "nbconvert_exporter": "python",
   "pygments_lexer": "ipython3",
   "version": "3.9.7"
  }
 },
 "nbformat": 4,
 "nbformat_minor": 5
}
